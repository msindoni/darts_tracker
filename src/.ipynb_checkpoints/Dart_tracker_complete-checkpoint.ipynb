{
 "cells": [
  {
   "cell_type": "code",
   "execution_count": null,
   "metadata": {},
   "outputs": [],
   "source": [
    "#importing packages needed for this notebook\n",
    "import numpy as np\n",
    "import seaborn as sns\n",
    "import pandas as pd\n",
    "import matplotlib.pyplot as plt\n",
    "from numba import jit\n",
    "from numba import njit, prange\n",
    "import math"
   ]
  },
  {
   "cell_type": "markdown",
   "metadata": {},
   "source": [
    "### Importing helper functions\n",
    "All of the function referenced below can be found in the dart_tracker_functions.py file. The line below allows this notebook to access those functions."
   ]
  },
  {
   "cell_type": "code",
   "execution_count": null,
   "metadata": {},
   "outputs": [],
   "source": [
    "from dart_tracker_functions import*"
   ]
  },
  {
   "cell_type": "markdown",
   "metadata": {},
   "source": [
    "### Importing csv data file\n",
    "First, the file that you import needs to be a csv file and organized in the correct format. An example of that can be used that has the basic formatting can be found in the github repositiory.\n",
    "\n",
    "Once uploaded, the csv will be converted into a pandas dataframe."
   ]
  },
  {
   "cell_type": "code",
   "execution_count": null,
   "metadata": {},
   "outputs": [],
   "source": [
    "#uploading dart throwing data and converting it to csv\n",
    "directory_file = ''\n",
    "with open(directory_file) as fhand:\n",
    "    df = pd.read_csv(fhand)"
   ]
  },
  {
   "cell_type": "markdown",
   "metadata": {},
   "source": [
    "### Creating a position array\n",
    "What the code below does is it creates a2D array or all zeros with the shape 400,450. Using the distances of different sections of a dart board from the center, each value is changed to reflect the positional value of the dart board. The values used for each section as as follows:\n",
    "- 0 = non-dart board positions. Values are never changed from original array\n",
    "- 0.2 = X2\n",
    "- 0.3 = X3\n",
    "- 0.1 = the inner ring between the outside bullseye and the 2X ring\n",
    "- 0.8 = the outter ring between the 2X and 3X ring\n",
    "- 0.25 = putter ring of the bullseye\n",
    "- 0.5 = center of the bullseye\n",
    "- 0.7 = black outter ring of the dart doard with no value (out of bounds) (represented by the top square)\n",
    "- 0.99 = bounce/dart does not stick to the board (represented by the lower square)"
   ]
  },
  {
   "cell_type": "code",
   "execution_count": null,
   "metadata": {},
   "outputs": [],
   "source": [
    "#create an array to define dart board regions (bullseye, 2x, 3x, etc..)\n",
    "#0=outside_board, 0.2=x2, 0.8=outside ring, 0.3=x3, 0.1=inside ring, 0.25=outer bullseyering, 0.5=bullseye, 0.99 = bouncs, 0.7 = out of bounds\n",
    "score_position_array = generate_position_array()\n",
    "plt.imshow(score_position_array, cmap = 'bone')"
   ]
  },
  {
   "cell_type": "markdown",
   "metadata": {},
   "source": [
    "### Creating a number score array\n",
    "Wh"
   ]
  },
  {
   "cell_type": "code",
   "execution_count": null,
   "metadata": {},
   "outputs": [],
   "source": [
    "#create an array to define dart board scores\n",
    "score_number_array = generate_number_array()\n",
    "plt.imshow(score_number_array, cmap = 'gist_stern')"
   ]
  },
  {
   "cell_type": "code",
   "execution_count": null,
   "metadata": {},
   "outputs": [],
   "source": [
    "#creat an array to outline dart board sections\n",
    "boarders_y_coords, boarders_x_coords = generate_outline_array(score_position_array, score_number_array)\n",
    "plt.scatter(boarders_x_coords, boarders_y_coords, s = 0.1, color = 'black')"
   ]
  },
  {
   "cell_type": "code",
   "execution_count": null,
   "metadata": {},
   "outputs": [],
   "source": [
    "#creates a 3D array based oin darts thrown\n",
    "#first dimension is each individual throw\n",
    "frequency_array = generate_frequency_array(df, score_position_array, score_number_array)\n",
    "plt.imshow(frequency_array[200, :, :], cmap='jet')\n",
    "plt.scatter(boarders_x_coords, boarders_y_coords, s = 0.1, color = 'white')"
   ]
  },
  {
   "cell_type": "code",
   "execution_count": null,
   "metadata": {},
   "outputs": [],
   "source": [
    "#save frequency array as individual images\n",
    "directory = ''\n",
    "generate_images(df, frequency_array, boarders_y_coords, boarders_x_coords, directory)"
   ]
  }
 ],
 "metadata": {
  "kernelspec": {
   "display_name": "Python 3",
   "language": "python",
   "name": "python3"
  },
  "language_info": {
   "codemirror_mode": {
    "name": "ipython",
    "version": 3
   },
   "file_extension": ".py",
   "mimetype": "text/x-python",
   "name": "python",
   "nbconvert_exporter": "python",
   "pygments_lexer": "ipython3",
   "version": "3.8.5"
  }
 },
 "nbformat": 4,
 "nbformat_minor": 5
}
